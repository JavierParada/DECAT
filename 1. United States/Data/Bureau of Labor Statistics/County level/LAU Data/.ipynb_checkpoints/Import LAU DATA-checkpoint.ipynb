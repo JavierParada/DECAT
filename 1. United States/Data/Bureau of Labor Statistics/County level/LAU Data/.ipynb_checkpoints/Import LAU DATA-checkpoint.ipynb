{
 "cells": [
  {
   "cell_type": "code",
   "execution_count": 100,
   "metadata": {},
   "outputs": [],
   "source": [
    "import pandas as pd"
   ]
  },
  {
   "cell_type": "markdown",
   "metadata": {},
   "source": [
    "# Import la.data.64.County and la.area\n",
    "\n",
    "The Local Area Unemployment Statistics (LAUS) program produces monthly estimates for Census regions and divisions, states (plus DC and Puerto Rico), metropolitan and micropolitan statistical areas, all counties, and cities with a population of 25,000 or more. You can access these estimates using the database tools at https://www.bls.gov/lau/data.htm. \n",
    "\n",
    "See https://download.bls.gov/pub/time.series/la/\n",
    "\n",
    "To connect the county names, you can connect the series_id field in the county file with the same field in the “la.series” file, then use the area_code field in that file to connect to the “la.area” file, which contains the area names in the area_text field. Alternatively, since the area code is embedded within the series_id, you can remove the “LAU” from the front of the series id and the last two digits (03, 04, 05, or 06) from the end (giving you, for example, CN0100100000000). You can then directly connect that resulting area code to the area_code field in the “la.area” file. \n",
    "\n",
    "Month 13 (M13) is the annual average. M01 through M12 are January-December, as you would expect.\n",
    "\n",
    "The last two digits are the measure codes:\n",
    "\n",
    "03 – unemployment rate\n",
    "\n",
    "04 – unemployment (level)\n",
    "\n",
    "05 – employment\n",
    "\n",
    "06 – labor force\n"
   ]
  },
  {
   "cell_type": "code",
   "execution_count": 101,
   "metadata": {},
   "outputs": [],
   "source": [
    "url_1 = 'https://download.bls.gov/pub/time.series/la/la.area'\n",
    "url_2 = 'https://download.bls.gov/pub/time.series/la/la.data.64.County'"
   ]
  },
  {
   "cell_type": "code",
   "execution_count": 102,
   "metadata": {
    "scrolled": true
   },
   "outputs": [],
   "source": [
    "la_area = pd.read_csv(url_1, sep='\\t', dtype=None)"
   ]
  },
  {
   "cell_type": "code",
   "execution_count": 103,
   "metadata": {},
   "outputs": [],
   "source": [
    "la_data_64_County = pd.read_csv(url_2, sep='\\t', dtype=str)\n",
    "la_data_64_County.columns = ['series_id', 'year', 'period', 'value', 'footnote_codes'] "
   ]
  },
  {
   "cell_type": "code",
   "execution_count": 104,
   "metadata": {},
   "outputs": [
    {
     "data": {
      "text/html": [
       "<div>\n",
       "<style scoped>\n",
       "    .dataframe tbody tr th:only-of-type {\n",
       "        vertical-align: middle;\n",
       "    }\n",
       "\n",
       "    .dataframe tbody tr th {\n",
       "        vertical-align: top;\n",
       "    }\n",
       "\n",
       "    .dataframe thead th {\n",
       "        text-align: right;\n",
       "    }\n",
       "</style>\n",
       "<table border=\"1\" class=\"dataframe\">\n",
       "  <thead>\n",
       "    <tr style=\"text-align: right;\">\n",
       "      <th></th>\n",
       "      <th>area_type_code</th>\n",
       "      <th>area_code</th>\n",
       "      <th>area_text</th>\n",
       "      <th>display_level</th>\n",
       "      <th>selectable</th>\n",
       "      <th>sort_sequence</th>\n",
       "    </tr>\n",
       "  </thead>\n",
       "  <tbody>\n",
       "    <tr>\n",
       "      <th>0</th>\n",
       "      <td>A</td>\n",
       "      <td>ST0100000000000</td>\n",
       "      <td>Alabama</td>\n",
       "      <td>0</td>\n",
       "      <td>T</td>\n",
       "      <td>1</td>\n",
       "    </tr>\n",
       "    <tr>\n",
       "      <th>1</th>\n",
       "      <td>A</td>\n",
       "      <td>ST0200000000000</td>\n",
       "      <td>Alaska</td>\n",
       "      <td>0</td>\n",
       "      <td>T</td>\n",
       "      <td>146</td>\n",
       "    </tr>\n",
       "    <tr>\n",
       "      <th>2</th>\n",
       "      <td>A</td>\n",
       "      <td>ST0400000000000</td>\n",
       "      <td>Arizona</td>\n",
       "      <td>0</td>\n",
       "      <td>T</td>\n",
       "      <td>188</td>\n",
       "    </tr>\n",
       "    <tr>\n",
       "      <th>3</th>\n",
       "      <td>A</td>\n",
       "      <td>ST0500000000000</td>\n",
       "      <td>Arkansas</td>\n",
       "      <td>0</td>\n",
       "      <td>T</td>\n",
       "      <td>252</td>\n",
       "    </tr>\n",
       "    <tr>\n",
       "      <th>4</th>\n",
       "      <td>A</td>\n",
       "      <td>ST0600000000000</td>\n",
       "      <td>California</td>\n",
       "      <td>0</td>\n",
       "      <td>T</td>\n",
       "      <td>378</td>\n",
       "    </tr>\n",
       "  </tbody>\n",
       "</table>\n",
       "</div>"
      ],
      "text/plain": [
       "  area_type_code        area_code   area_text  display_level selectable  \\\n",
       "0              A  ST0100000000000     Alabama              0          T   \n",
       "1              A  ST0200000000000      Alaska              0          T   \n",
       "2              A  ST0400000000000     Arizona              0          T   \n",
       "3              A  ST0500000000000    Arkansas              0          T   \n",
       "4              A  ST0600000000000  California              0          T   \n",
       "\n",
       "   sort_sequence  \n",
       "0              1  \n",
       "1            146  \n",
       "2            188  \n",
       "3            252  \n",
       "4            378  "
      ]
     },
     "execution_count": 104,
     "metadata": {},
     "output_type": "execute_result"
    }
   ],
   "source": [
    "la_area.head()"
   ]
  },
  {
   "cell_type": "code",
   "execution_count": 105,
   "metadata": {},
   "outputs": [
    {
     "data": {
      "text/html": [
       "<div>\n",
       "<style scoped>\n",
       "    .dataframe tbody tr th:only-of-type {\n",
       "        vertical-align: middle;\n",
       "    }\n",
       "\n",
       "    .dataframe tbody tr th {\n",
       "        vertical-align: top;\n",
       "    }\n",
       "\n",
       "    .dataframe thead th {\n",
       "        text-align: right;\n",
       "    }\n",
       "</style>\n",
       "<table border=\"1\" class=\"dataframe\">\n",
       "  <thead>\n",
       "    <tr style=\"text-align: right;\">\n",
       "      <th></th>\n",
       "      <th>series_id</th>\n",
       "      <th>year</th>\n",
       "      <th>period</th>\n",
       "      <th>value</th>\n",
       "      <th>footnote_codes</th>\n",
       "    </tr>\n",
       "  </thead>\n",
       "  <tbody>\n",
       "    <tr>\n",
       "      <th>0</th>\n",
       "      <td>LAUCN010010000000003</td>\n",
       "      <td>1990</td>\n",
       "      <td>M01</td>\n",
       "      <td>6.4</td>\n",
       "      <td>NaN</td>\n",
       "    </tr>\n",
       "    <tr>\n",
       "      <th>1</th>\n",
       "      <td>LAUCN010010000000003</td>\n",
       "      <td>1990</td>\n",
       "      <td>M02</td>\n",
       "      <td>6.6</td>\n",
       "      <td>NaN</td>\n",
       "    </tr>\n",
       "    <tr>\n",
       "      <th>2</th>\n",
       "      <td>LAUCN010010000000003</td>\n",
       "      <td>1990</td>\n",
       "      <td>M03</td>\n",
       "      <td>5.8</td>\n",
       "      <td>NaN</td>\n",
       "    </tr>\n",
       "    <tr>\n",
       "      <th>3</th>\n",
       "      <td>LAUCN010010000000003</td>\n",
       "      <td>1990</td>\n",
       "      <td>M04</td>\n",
       "      <td>6.6</td>\n",
       "      <td>NaN</td>\n",
       "    </tr>\n",
       "    <tr>\n",
       "      <th>4</th>\n",
       "      <td>LAUCN010010000000003</td>\n",
       "      <td>1990</td>\n",
       "      <td>M05</td>\n",
       "      <td>6.0</td>\n",
       "      <td>NaN</td>\n",
       "    </tr>\n",
       "  </tbody>\n",
       "</table>\n",
       "</div>"
      ],
      "text/plain": [
       "                        series_id  year period         value footnote_codes\n",
       "0  LAUCN010010000000003            1990    M01           6.4            NaN\n",
       "1  LAUCN010010000000003            1990    M02           6.6            NaN\n",
       "2  LAUCN010010000000003            1990    M03           5.8            NaN\n",
       "3  LAUCN010010000000003            1990    M04           6.6            NaN\n",
       "4  LAUCN010010000000003            1990    M05           6.0            NaN"
      ]
     },
     "execution_count": 105,
     "metadata": {},
     "output_type": "execute_result"
    }
   ],
   "source": [
    "la_data_64_County.head()"
   ]
  },
  {
   "cell_type": "code",
   "execution_count": 106,
   "metadata": {},
   "outputs": [
    {
     "data": {
      "text/plain": [
       "area_type_code    object\n",
       "area_code         object\n",
       "area_text         object\n",
       "display_level      int64\n",
       "selectable        object\n",
       "sort_sequence      int64\n",
       "dtype: object"
      ]
     },
     "execution_count": 106,
     "metadata": {},
     "output_type": "execute_result"
    }
   ],
   "source": [
    "la_area.dtypes"
   ]
  },
  {
   "cell_type": "code",
   "execution_count": 107,
   "metadata": {},
   "outputs": [
    {
     "data": {
      "text/plain": [
       "series_id         object\n",
       "year              object\n",
       "period            object\n",
       "value             object\n",
       "footnote_codes    object\n",
       "dtype: object"
      ]
     },
     "execution_count": 107,
     "metadata": {},
     "output_type": "execute_result"
    }
   ],
   "source": [
    "la_data_64_County.dtypes"
   ]
  },
  {
   "cell_type": "code",
   "execution_count": 108,
   "metadata": {},
   "outputs": [],
   "source": [
    "la_data_64_County[\"year\"]= la_data_64_County[\"year\"].astype(str) \n",
    "la_data_64_County[\"value\"]= la_data_64_County[\"value\"].astype(str) "
   ]
  },
  {
   "cell_type": "code",
   "execution_count": 111,
   "metadata": {},
   "outputs": [],
   "source": [
    "la_area.to_stata('la_area.dta')\n",
    "la_area.to_csv('la_area.csv')"
   ]
  },
  {
   "cell_type": "code",
   "execution_count": 112,
   "metadata": {},
   "outputs": [],
   "source": [
    "la_data_64_County.to_stata('la_data_64_County.dta')\n",
    "la_data_64_County.to_csv('la_data_64_County.csv')"
   ]
  },
  {
   "cell_type": "code",
   "execution_count": null,
   "metadata": {},
   "outputs": [],
   "source": []
  }
 ],
 "metadata": {
  "kernelspec": {
   "display_name": "Python 3",
   "language": "python",
   "name": "python3"
  },
  "language_info": {
   "codemirror_mode": {
    "name": "ipython",
    "version": 3
   },
   "file_extension": ".py",
   "mimetype": "text/x-python",
   "name": "python",
   "nbconvert_exporter": "python",
   "pygments_lexer": "ipython3",
   "version": "3.7.3"
  }
 },
 "nbformat": 4,
 "nbformat_minor": 2
}
